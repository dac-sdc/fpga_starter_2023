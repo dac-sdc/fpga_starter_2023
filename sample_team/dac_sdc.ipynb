{
 "cells": [
  {
   "cell_type": "markdown",
   "metadata": {},
   "source": [
    "# DAC Contest\n",
    "This reference design will help you walk through a design flow of DAC SDC 2022. This is a simplified design to help users get started on the FPGA platform and to understand the overall flow. It does not contain any object detection hardware.\n",
    "\n",
    "If you have any questions, please post on the [Piazza page](piazza.com/dac_2018/summer2022/dacsdc2022).\n",
    "\n",
    "### Hardware\n",
    "The base hardware design contains the Zynq MPSoC processor (A53) with a DMA and FIFO implemented in the PL.\n",
    "Note that in this starting hardware, no actual image processing/detection is done. Pictures are:\n",
    "  * Sent from PS to DMA, then DMA to FIFO\n",
    "  * Sent back from FIFO to DMA, then DMA to PS.\n",
    "\n",
    "Note that the FIFO should be replaced with meaningful hardware to process the pictures.\n",
    "\n",
    "You can create a Vivado project by opening Vivado 2019.1, changing to the hw directory, and running `source dac_sdc.tcl`. This will create and open a project that you can edit.  On the final submission you are required to submit the sources files of your design, and you should run `File->Project->Write Tcl...` to generate a new tcl file to submit. Be sure to check the `Recreate Block Designs using Tcl` box, and include any custom IP modules you use.\n",
    "\n",
    "### Software\n",
    "Note:\n",
    "  * You will not submit your `dac_sdc.py` file, so any changes you make to this file will not be considered during evluation.  \n",
    "  * You can use both PS and PL side to do inference.\n",
    "\n",
    "### Object Detection\n",
    "\n",
    "Object detection will be done on images in batches:\n",
    "  * You will provide a Python callback function that will perform object detection on batch of images.  This callback function wile be called many times.\n",
    "  * The callback function should return the locations of all images in the batch.\n",
    "  * Runtime and energy usage will be recorded during your callback function.\n",
    "  * Images will be loaded from SD card before each batch is run, and this does not count toward your energy usage or runtime.\n",
    "  \n",
    "### Notebook\n",
    "Your notebook should contain 4 code cells:\n",
    "\n",
    "1. Importing all libraries and creating your Team object.\n",
    "1. Downloading the overlay, and performany any one-time configuration.\n",
    "1. Python callback function and any other Python helper functions.\n",
    "1. Running object detection\n",
    "1. Cleanup\n",
    "\n"
   ]
  },
  {
   "cell_type": "markdown",
   "metadata": {},
   "source": [
    "## 1. Imports and Create Team"
   ]
  },
  {
   "cell_type": "code",
   "execution_count": 1,
   "metadata": {},
   "outputs": [
    {
     "data": {
      "application/javascript": [
       "\n",
       "try {\n",
       "require(['notebook/js/codecell'], function(codecell) {\n",
       "  codecell.CodeCell.options_default.highlight_modes[\n",
       "      'magic_text/x-csrc'] = {'reg':[/^%%microblaze/]};\n",
       "  Jupyter.notebook.events.one('kernel_ready.Kernel', function(){\n",
       "      Jupyter.notebook.get_cells().map(function(cell){\n",
       "          if (cell.cell_type == 'code'){ cell.auto_highlight(); } }) ;\n",
       "  });\n",
       "});\n",
       "} catch (e) {};\n"
      ]
     },
     "metadata": {},
     "output_type": "display_data"
    },
    {
     "data": {
      "application/javascript": [
       "\n",
       "try {\n",
       "require(['notebook/js/codecell'], function(codecell) {\n",
       "  codecell.CodeCell.options_default.highlight_modes[\n",
       "      'magic_text/x-csrc'] = {'reg':[/^%%pybind11/]};\n",
       "  Jupyter.notebook.events.one('kernel_ready.Kernel', function(){\n",
       "      Jupyter.notebook.get_cells().map(function(cell){\n",
       "          if (cell.cell_type == 'code'){ cell.auto_highlight(); } }) ;\n",
       "  });\n",
       "});\n",
       "} catch (e) {};\n"
      ]
     },
     "metadata": {},
     "output_type": "display_data"
    }
   ],
   "source": [
    "import sys\n",
    "import os\n",
    "\n",
    "sys.path.append(os.path.abspath(\"../common\"))\n",
    "\n",
    "import math\n",
    "import time\n",
    "import numpy as np\n",
    "from PIL import Image\n",
    "from matplotlib import pyplot\n",
    "import cv2\n",
    "from datetime import datetime\n",
    "\n",
    "import pynq\n",
    "import dac_sdc\n",
    "from IPython.display import display\n",
    "\n",
    "team_name = 'sample_team'\n",
    "team = dac_sdc.Team(team_name)"
   ]
  },
  {
   "cell_type": "markdown",
   "metadata": {},
   "source": [
    "**Your team directory where you can access your bitstream, notebook, and any other files you submit, is available as `team.team_dir`.**"
   ]
  },
  {
   "cell_type": "markdown",
   "metadata": {},
   "source": [
    "## 2. Preparing the overlay/bitstream and weight loading\n",
    "Overlay/bitstream loading must be executed in this cell.\n",
    "\n",
    "In this sample hardware, the DMA instance is exposed as an attribute of the overlay object.  You aren't required to use DMA for your hardware solution."
   ]
  },
  {
   "cell_type": "code",
   "execution_count": 2,
   "metadata": {},
   "outputs": [],
   "source": [
    "overlay = pynq.Overlay(team.get_bitstream_path())\n",
    "dma = overlay.axi_dma_0"
   ]
  },
  {
   "cell_type": "markdown",
   "metadata": {},
   "source": [
    "## 3. Python Callback Function and Helper Functions\n"
   ]
  },
  {
   "cell_type": "markdown",
   "metadata": {},
   "source": [
    "### Pushing the picture through the pipeline\n",
    "In this example, we use contiguous memory arrays for sending and receiving data via DMA.\n",
    "\n",
    "The size of the buffer depends on the size of the input or output data.  The example images are 640x360 (same size as training and test data), and we will use `pynq.allocate` to allocate contiguous memory.\n",
    "\n",
    "### Callback function\n",
    "The callback function:\n",
    "  - Will be called on each batch of images (will be called many times)\n",
    "  - Is prvided with a list of tuples of (image path, RGB image)\n",
    "  - It should return a list of object locations, where each location is a tuple (xmin, xmax, ymin, ymax) indicating the bounding box. This list should have the same number of elements as images provided to you. The first element in the list will correspond to the first image in the rgb_imgs list, etc.\n"
   ]
  },
  {
   "cell_type": "code",
   "execution_count": 3,
   "metadata": {},
   "outputs": [],
   "source": [
    "in_buffer = pynq.allocate(shape=(360, 640, 3), dtype=np.uint8, cacheable = 1)\n",
    "out_buffer = pynq.allocate(shape=(360, 640, 3), dtype=np.uint8, cacheable = 1)\n",
    "\n",
    "def dma_transfer():\n",
    "    dma.sendchannel.transfer(in_buffer)\n",
    "    dma.recvchannel.transfer(out_buffer)    \n",
    "    dma.sendchannel.wait()\n",
    "    dma.recvchannel.wait()\n",
    "    \n",
    "def my_callback(rgb_imgs):\n",
    "    img_locations = []\n",
    "    for (img_path, img) in rgb_imgs:\n",
    "        print(\"Loading image\", img_path, \"into buffer for DMA transfer\")\n",
    "        in_buffer[:] = img    \n",
    "        dma_transfer()\n",
    "        print(\"\\tDMA transfer complete\")\n",
    "        \n",
    "        # Show image (notebook will only show latest image)\n",
    "        pyplot.imshow(out_buffer)\n",
    "        \n",
    "        # Appending fake image location, since this example doesn't actually perform object detection \n",
    "        img_locations.append([50,90,70,130])\n",
    "        \n",
    "    return img_locations"
   ]
  },
  {
   "cell_type": "markdown",
   "metadata": {},
   "source": [
    "## 4. Running Object Detection\n",
    "\n",
    "Call the following function to run the object detection.  Extra debug output is enabled when `debug` is `True`."
   ]
  },
  {
   "cell_type": "code",
   "execution_count": 4,
   "metadata": {},
   "outputs": [
    {
     "name": "stdout",
     "output_type": "stream",
     "text": [
      "Batch 1 starting. 2 images.\n",
      "Loading image /home/xilinx/jupyter_notebooks/dac_sdc_2022/images/0.jpg into buffer for DMA transfer\n",
      "\tDMA transfer complete\n",
      "Loading image /home/xilinx/jupyter_notebooks/dac_sdc_2022/images/1.jpg into buffer for DMA transfer\n",
      "\tDMA transfer complete\n",
      "Batch 1 done. Runtime = 1.9738342761993408 seconds. Energy = 2.9607514142990112 J.\n",
      "Done all batches. Total runtime = 1.9738342761993408 seconds. Total energy = 2.9607514142990112 J.\n",
      "Savings results to XML...\n",
      "XML results written successfully.\n"
     ]
    },
    {
     "data": {
      "image/png": "[encoded data removed]",
      "text/plain": [
       "<Figure size 432x288 with 1 Axes>"
      ]
     },
     "metadata": {
      "needs_background": "light"
     },
     "output_type": "display_data"
    }
   ],
   "source": [
    "team.run(my_callback, debug=True)"
   ]
  },
  {
   "cell_type": "markdown",
   "metadata": {},
   "source": [
    "## 5. Cleanup"
   ]
  },
  {
   "cell_type": "code",
   "execution_count": 5,
   "metadata": {},
   "outputs": [],
   "source": [
    "# Remember to free the contiguous memory after usage.\n",
    "del in_buffer\n",
    "del out_buffer"
   ]
  }
 ],
 "metadata": {
  "kernelspec": {
   "display_name": "Python 3",
   "language": "python",
   "name": "python3"
  },
  "language_info": {
   "codemirror_mode": {
    "name": "ipython",
    "version": 3
   },
   "file_extension": ".py",
   "mimetype": "text/x-python",
   "name": "python",
   "nbconvert_exporter": "python",
   "pygments_lexer": "ipython3",
   "version": "3.8.2"
  }
 },
 "nbformat": 4,
 "nbformat_minor": 4
}
