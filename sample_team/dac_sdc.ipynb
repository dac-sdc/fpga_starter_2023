{
 "cells": [
  {
   "cell_type": "markdown",
   "metadata": {},
   "source": [
    "# DAC Contest\n",
    "This reference design will help you walk through a design flow of DAC SDC 2023. This is a simplified design to help users get started on the FPGA platform and to understand the overall flow. It does not contain any object detection hardware.\n",
    "\n",
    "If you have any questions, please post on the Slack page (link on SDC website sidebar).\n",
    "\n",
    "### Hardware\n",
    "The base hardware design contains the Zynq MPSoC processor (A53) with a DMA and FIFO implemented in the PL.\n",
    "Note that in this starting hardware, no actual image processing/detection is done. Pictures are:\n",
    "  * Sent from PS to DMA, then DMA to FIFO\n",
    "  * Sent back from FIFO to DMA, then DMA to PS.\n",
    "\n",
    "Note that the FIFO should be replaced with meaningful hardware to process the pictures.\n",
    "\n",
    "You can create a Vivado project by opening Vivado 2022.2, changing to the hw directory, and running `make`. This will create and open a Vivado project that you can edit.  On the final submission you are required to submit the sources files of your design, and you should run `File->Project->Write Tcl...` to generate a new tcl file to submit. Be sure to check the `Recreate Block Designs using Tcl` box, and include any custom IP modules you use.\n",
    "\n",
    "### Software\n",
    "Note:\n",
    "  * You will not submit your `dac_sdc.py` file, so any changes you make to this file will not be considered during evluation.  \n",
    "  * You can use both PS and PL side to do inference.\n",
    "\n",
    "### Object Detection\n",
    "\n",
    "Object detection will be done on images in batches:\n",
    "  * You will provide a Python callback function that will perform object detection on batch of images.  This callback function wile be called many times.\n",
    "  * The callback function should return the locations of all images in the batch.\n",
    "  * Runtime will be recorded during your callback function.\n",
    "  * Images will be loaded from SD card before each batch is run, and this does not count toward your energy usage or runtime.\n",
    "  \n",
    "### Notebook\n",
    "Your notebook should contain 4 code cells:\n",
    "\n",
    "1. Importing all libraries and creating your Team object.\n",
    "1. Downloading the overlay, and performany any one-time configuration.\n",
    "1. Python callback function and any other Python helper functions.\n",
    "1. Running object detection\n",
    "1. Cleanup\n",
    "\n"
   ]
  },
  {
   "cell_type": "markdown",
   "metadata": {},
   "source": [
    "## 1. Imports and Create Team"
   ]
  },
  {
   "cell_type": "code",
   "execution_count": null,
   "metadata": {},
   "outputs": [],
   "source": [
    "import sys\n",
    "import os\n",
    "\n",
    "sys.path.append(os.path.abspath(\"../common\"))\n",
    "\n",
    "import math\n",
    "import time\n",
    "import numpy as np\n",
    "from PIL import Image\n",
    "from matplotlib import pyplot\n",
    "import cv2\n",
    "from datetime import datetime\n",
    "\n",
    "import pynq\n",
    "import dac_sdc\n",
    "from IPython.display import display\n",
    "\n",
    "team_name = 'sample_team'\n",
    "dac_sdc.BATCH_SIZE = 2\n",
    "team = dac_sdc.Team(team_name)"
   ]
  },
  {
   "cell_type": "markdown",
   "metadata": {},
   "source": [
    "**Your team directory where you can access your bitstream, notebook, and any other files you submit, is available as `team.team_dir`.**"
   ]
  },
  {
   "cell_type": "markdown",
   "metadata": {},
   "source": [
    "## 2. Preparing the overlay/bitstream and weight loading\n",
    "Overlay/bitstream loading must be executed in this cell.\n",
    "\n",
    "In this sample hardware, the DMA instance is exposed as an attribute of the overlay object.  You aren't required to use DMA for your hardware solution."
   ]
  },
  {
   "cell_type": "code",
   "execution_count": null,
   "metadata": {},
   "outputs": [],
   "source": [
    "bitfile = team.get_bitstream_path()\n",
    "print(bitfile)\n",
    "overlay = pynq.Overlay(bitfile)\n",
    "dma = overlay.axi_dma_0"
   ]
  },
  {
   "cell_type": "markdown",
   "metadata": {},
   "source": [
    "## 3. Python Callback Function and Helper Functions\n"
   ]
  },
  {
   "cell_type": "markdown",
   "metadata": {},
   "source": [
    "### Pushing the picture through the pipeline\n",
    "In this example, we use contiguous memory arrays for sending and receiving data via DMA.\n",
    "\n",
    "The size of the buffer depends on the size of the input or output data.  The example images are 640x360 (same size as training and test data), and we will use `pynq.allocate` to allocate contiguous memory.\n",
    "\n",
    "### Callback function\n",
    "The callback function:\n",
    "  - Will be called on each batch of images (will be called many times)\n",
    "  - Is prvided with a list of tuples of (image path, RGB image)\n",
    "  - It should return a dictionary with an entry for each image:\n",
    "    - Key: Image name (`img_path.name`)\n",
    "    - Value: Dictionary of item type and bounding box (keys: `type`, `x`, `y`, `width`, `height`)\n",
    "\n",
    "See the code below for an example:\n"
   ]
  },
  {
   "cell_type": "code",
   "execution_count": null,
   "metadata": {},
   "outputs": [],
   "source": [
    "in_buffer = pynq.allocate(shape=(180, 320, 3), dtype=np.uint8, cacheable = 1)\n",
    "out_buffer = pynq.allocate(shape=(180, 320, 3), dtype=np.uint8, cacheable = 1)\n",
    "\n",
    "def dma_transfer():\n",
    "    dma.sendchannel.transfer(in_buffer)\n",
    "    dma.recvchannel.transfer(out_buffer)    \n",
    "    dma.sendchannel.wait()\n",
    "    dma.recvchannel.wait()\n",
    "    \n",
    "def my_callback(rgb_imgs):\n",
    "    object_locations_by_image = {}\n",
    "    \n",
    "    \n",
    "    for (img_path, img) in rgb_imgs:\n",
    "        object_locations = []\n",
    "        \n",
    "        # Resize the image (this is part of your runtime)\n",
    "        img_resized = cv2.resize(img, (320,180), interpolation = cv2.INTER_AREA)\n",
    "        \n",
    "        # Put resized image into DMA\n",
    "        print(\"Loading image\", img_path.name, \"into buffer for DMA transfer\")\n",
    "        in_buffer[:] = img_resized    \n",
    "        dma_transfer()\n",
    "        del img_resized\n",
    "        print(\"\\tDMA transfer complete\")\n",
    "        \n",
    "        # Show image (notebook will only show latest image)\n",
    "        pyplot.imshow(out_buffer)\n",
    "        \n",
    "        # Appending fake image location, since this example doesn't actually perform object detection \n",
    "        object_locations.append({\"type\":1, \"x\":1168, \"y\":639, \"width\":457, \"height\":245})\n",
    "        object_locations.append({\"type\":1, \"x\":831, \"y\":626, \"width\":77, \"height\":57})\n",
    "        object_locations.append({\"type\":2, \"x\":753, \"y\":628, \"width\":44, \"height\":52})\n",
    "        \n",
    "        # Save to dictionary by image filename\n",
    "        object_locations_by_image[img_path.name] = object_locations\n",
    "        \n",
    "    return object_locations_by_image\n"
   ]
  },
  {
   "cell_type": "markdown",
   "metadata": {},
   "source": [
    "## 4. Running Object Detection\n",
    "\n",
    "Call the following function to run the object detection.  Extra debug output is enabled when `debug` is `True`."
   ]
  },
  {
   "cell_type": "code",
   "execution_count": null,
   "metadata": {},
   "outputs": [],
   "source": [
    "team.run(my_callback, debug=True)"
   ]
  },
  {
   "cell_type": "markdown",
   "metadata": {},
   "source": [
    "## 5. Cleanup"
   ]
  },
  {
   "cell_type": "code",
   "execution_count": null,
   "metadata": {},
   "outputs": [],
   "source": [
    "# Remember to free the contiguous memory after usage.\n",
    "del in_buffer\n",
    "del out_buffer"
   ]
  }
 ],
 "metadata": {
  "kernelspec": {
   "display_name": "Python 3 (ipykernel)",
   "language": "python",
   "name": "python3"
  },
  "language_info": {
   "codemirror_mode": {
    "name": "ipython",
    "version": 3
   },
   "file_extension": ".py",
   "mimetype": "text/x-python",
   "name": "python",
   "nbconvert_exporter": "python",
   "pygments_lexer": "ipython3",
   "version": "3.10.6"
  }
 },
 "nbformat": 4,
 "nbformat_minor": 4
}
